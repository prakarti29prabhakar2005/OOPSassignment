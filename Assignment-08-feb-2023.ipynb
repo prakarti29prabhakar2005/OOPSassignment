{
 "cells": [
  {
   "cell_type": "markdown",
   "id": "fb67c389-84f1-4396-b13c-1320521a34b6",
   "metadata": {},
   "source": [
    "OOPS Assignment"
   ]
  },
  {
   "cell_type": "code",
   "execution_count": 1,
   "id": "5cc08c07-4118-4b76-a45f-9c5056ff4adf",
   "metadata": {},
   "outputs": [],
   "source": [
    "# Q1. What is Abstraction in OOps? Explain with an example."
   ]
  },
  {
   "cell_type": "code",
   "execution_count": 5,
   "id": "79a08652-0846-405d-9b3f-1ea37051b20c",
   "metadata": {},
   "outputs": [
    {
     "data": {
      "text/plain": [
       "4800"
      ]
     },
     "execution_count": 5,
     "metadata": {},
     "output_type": "execute_result"
    }
   ],
   "source": [
    "# Abstraction is the concept of hiding the complex implementation details of a system from the user and exposing on ly the necessary parts.\n",
    "\n",
    "class bank_account:\n",
    "    def __init__(self, balance):\n",
    "        self.__balance = balance\n",
    "    def deposit(self, amount):\n",
    "        self.__balance = self.__balance + amount\n",
    "    def withdraw(self, amount):\n",
    "        if amount <= self.__balance:\n",
    "            self.__balance = self.__balance - amount\n",
    "            return True\n",
    "        else:\n",
    "            return False\n",
    "    def getBalance(self):\n",
    "        return self.__balance\n",
    "    \n",
    "c = bank_account(500)\n",
    "c.deposit(5000)\n",
    "c.withdraw(700)\n",
    "c.getBalance()"
   ]
  },
  {
   "cell_type": "code",
   "execution_count": 6,
   "id": "0e7ac493-9d42-4637-8939-89b184930bb3",
   "metadata": {},
   "outputs": [],
   "source": [
    "# Q2. Differentiate between Abstraction and Encapsulation. Explain with an example."
   ]
  },
  {
   "cell_type": "code",
   "execution_count": 2,
   "id": "0c1c4dca-015e-46d0-a013-eac5afdca015",
   "metadata": {},
   "outputs": [
    {
     "name": "stdout",
     "output_type": "stream",
     "text": [
      "True\n",
      "True\n",
      "4800\n"
     ]
    }
   ],
   "source": [
    "# Abstraction focuses on hiding the complex implementation details and exposing only the necessary features of an object.\n",
    "# Encapsulation restricts access to some of the object's components.\n",
    "\n",
    "impo\n",
    "class AbstractBankAccount:\n",
    "    @abc.abstractmethod\n",
    "    def deposit(self, amount):\n",
    "        pass\n",
    "    @abc.abstractmethod\n",
    "    def withdraw(self, amount):\n",
    "        pass\n",
    "    @abc.abstractmethod\n",
    "    def get_balance(self):\n",
    "        pass\n",
    "\n",
    "class BankAccount(AbstractBankAccount):\n",
    "    def __init__(self, balance):\n",
    "        self.__balance = balance  \n",
    "\n",
    "    def deposit(self, amount):\n",
    "        if amount > 0:\n",
    "            self.__balance += amount  \n",
    "            return True\n",
    "        return False\n",
    "\n",
    "    def withdraw(self, amount):\n",
    "        if 0 < amount <= self.__balance:\n",
    "            self.__balance -= amount  \n",
    "            return True\n",
    "        return False\n",
    "\n",
    "    def get_balance(self):\n",
    "        return self.__balance  \n",
    "\n",
    "account = BankAccount(500)\n",
    "print(account.deposit(5000))  \n",
    "print(account.withdraw(700)) \n",
    "print(account.get_balance()) "
   ]
  },
  {
   "cell_type": "code",
   "execution_count": 3,
   "id": "10ef416e-5135-4d17-919a-4d0f0d114197",
   "metadata": {},
   "outputs": [],
   "source": [
    "# Q3. What is the abc module in Python? Why is it used?"
   ]
  },
  {
   "cell_type": "code",
   "execution_count": 4,
   "id": "109300e6-a949-4c7b-af6c-515b2a2857c7",
   "metadata": {},
   "outputs": [],
   "source": [
    "# The 'abc' module in python provides the infrastructure for defining abstract base classes. The purpose of using ABC is to define a common interface for a set of subclasses. it ensures that derived classes implement particular methods from the base class."
   ]
  },
  {
   "cell_type": "code",
   "execution_count": 5,
   "id": "b026722b-db92-4bf2-a40c-f7a085af5512",
   "metadata": {},
   "outputs": [],
   "source": [
    "# Q4. How can we achieve data abstraction?"
   ]
  },
  {
   "cell_type": "code",
   "execution_count": 6,
   "id": "13c34caf-8102-40c6-982c-c47735383e55",
   "metadata": {},
   "outputs": [],
   "source": [
    "# Data abstraction can be achieved through:\n",
    "#     1. Abstract classes and methods\n",
    "#     2. Encapsulation"
   ]
  },
  {
   "cell_type": "code",
   "execution_count": 7,
   "id": "416a7551-785c-49ed-9339-33c4cd5e2318",
   "metadata": {},
   "outputs": [],
   "source": [
    "# Q5. Can we create an instance of an abstract class? Explain your answer."
   ]
  },
  {
   "cell_type": "code",
   "execution_count": 10,
   "id": "f89a05e1-413c-486b-baba-d8ab760c57f9",
   "metadata": {},
   "outputs": [
    {
     "name": "stdout",
     "output_type": "stream",
     "text": [
      "Can't instantiate abstract class abstractClass with abstract method printMessage\n"
     ]
    }
   ],
   "source": [
    "# No, we cannot create an instance of an abstract class. An abstract class is meant to be a blueprint for other classes. It can contain abstract methods that do not have implementations and are intended to be overridden by subclasses. Attempting to instantiate an abstract class will raise a 'TypeError'.\n",
    "\n",
    "from abc import ABC, abstractmethod\n",
    "class abstractClass(ABC):\n",
    "    @abstractmethod\n",
    "    def printMessage(self):\n",
    "        pass\n",
    "\n",
    "try:\n",
    "    obj = abstractClass()\n",
    "except TypeError as e:\n",
    "    print(e)   "
   ]
  },
  {
   "cell_type": "code",
   "execution_count": null,
   "id": "38eea12e-ed4a-4f27-89e5-fb765cf06cb2",
   "metadata": {},
   "outputs": [],
   "source": []
  }
 ],
 "metadata": {
  "kernelspec": {
   "display_name": "Python 3 (ipykernel)",
   "language": "python",
   "name": "python3"
  },
  "language_info": {
   "codemirror_mode": {
    "name": "ipython",
    "version": 3
   },
   "file_extension": ".py",
   "mimetype": "text/x-python",
   "name": "python",
   "nbconvert_exporter": "python",
   "pygments_lexer": "ipython3",
   "version": "3.10.8"
  }
 },
 "nbformat": 4,
 "nbformat_minor": 5
}
